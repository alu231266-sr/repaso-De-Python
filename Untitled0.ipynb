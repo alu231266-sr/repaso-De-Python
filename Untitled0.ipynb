{
  "nbformat": 4,
  "nbformat_minor": 0,
  "metadata": {
    "colab": {
      "provenance": [],
      "authorship_tag": "ABX9TyOjubZEpw91bBXp2LeyfQnQ",
      "include_colab_link": true
    },
    "kernelspec": {
      "name": "python3",
      "display_name": "Python 3"
    },
    "language_info": {
      "name": "python"
    }
  },
  "cells": [
    {
      "cell_type": "markdown",
      "metadata": {
        "id": "view-in-github",
        "colab_type": "text"
      },
      "source": [
        "<a href=\"https://colab.research.google.com/github/alu231266-sr/repaso-De-Python/blob/main/Untitled0.ipynb\" target=\"_parent\"><img src=\"https://colab.research.google.com/assets/colab-badge.svg\" alt=\"Open In Colab\"/></a>"
      ]
    },
    {
      "cell_type": "markdown",
      "source": [
        "1.- Realizar un programa en python que te permita capturar 3 números enteros e imprima cual de los 3 es el mayor"
      ],
      "metadata": {
        "id": "5_H292jI_D3B"
      }
    },
    {
      "cell_type": "code",
      "source": [
        "num1 = int(input(\"ingresa tu primer numero:\"))\n",
        "num2 = int(input(\"ingresa tu segunddo numero:\"))\n",
        "num3 = int(input(\"ingresa tu tercer numero:\"))\n",
        "\n",
        "if num1 >= num2 and num1 >= num3:\n",
        "   print(\"el numero mayor es:\" , num1)\n",
        "elif num2 >= num1 and num2 >= num3:\n",
        "  print(\"el numero mayor es:\", num2)\n",
        "else:\n",
        "  print(\"el numero mayor es:\", num3)"
      ],
      "metadata": {
        "colab": {
          "base_uri": "https://localhost:8080/"
        },
        "id": "AzcTrv-p_InQ",
        "outputId": "4faba05d-5c16-4b49-9ae3-548f9f4422df"
      },
      "execution_count": 1,
      "outputs": [
        {
          "output_type": "stream",
          "name": "stdout",
          "text": [
            "ingresa tu primer numero:10\n",
            "ingresa tu segunddo numero:20\n",
            "ingresa tu tercer numero:65\n",
            "el numero mayor es: 65\n"
          ]
        }
      ]
    },
    {
      "cell_type": "markdown",
      "source": [
        "2.- Realizar un programa en python mediante el cual calcules el total de caracteres que tiene un nombre capturado desde el teclado"
      ],
      "metadata": {
        "id": "CQlrsczrB8vl"
      }
    },
    {
      "cell_type": "code",
      "source": [
        "nombre = input(\"ingresa tu nombre: \")\n",
        "print(\"el nombre tiene\", len(nombre), \"caracteres\")"
      ],
      "metadata": {
        "colab": {
          "base_uri": "https://localhost:8080/"
        },
        "id": "qyADtts_CC_8",
        "outputId": "5a0eea0c-c091-4cd2-a55b-01b67aa3b41f"
      },
      "execution_count": 2,
      "outputs": [
        {
          "output_type": "stream",
          "name": "stdout",
          "text": [
            "ingresa tu nombre: valentina\n",
            "el nombre tiene 9 caracteres\n"
          ]
        }
      ]
    },
    {
      "cell_type": "markdown",
      "source": [
        "3.- Realizar un programa en python que permita imprimir los 7 días de la semana."
      ],
      "metadata": {
        "id": "HNaSBINMCn67"
      }
    },
    {
      "cell_type": "code",
      "source": [
        "dias = [\"lunes\", \"martes\", \"miercoles\", \"jueves\",\"viernes\", \"sabado\",\"domingo\"]\n",
        "for dia in dias:\n",
        "  print(dia)"
      ],
      "metadata": {
        "colab": {
          "base_uri": "https://localhost:8080/"
        },
        "id": "sKp8rG1OCsWy",
        "outputId": "da79d299-338c-40eb-9586-d93b1d96b931"
      },
      "execution_count": 2,
      "outputs": [
        {
          "output_type": "stream",
          "name": "stdout",
          "text": [
            "lunes\n",
            "martes\n",
            "miercoles\n",
            "jueves\n",
            "viernes\n",
            "sabado\n",
            "domingo\n"
          ]
        }
      ]
    }
  ]
}