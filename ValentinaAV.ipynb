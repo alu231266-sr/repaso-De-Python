{
  "nbformat": 4,
  "nbformat_minor": 0,
  "metadata": {
    "colab": {
      "provenance": [],
      "authorship_tag": "ABX9TyONumrNXXZY1mCh5l0s2GxN",
      "include_colab_link": true
    },
    "kernelspec": {
      "name": "python3",
      "display_name": "Python 3"
    },
    "language_info": {
      "name": "python"
    }
  },
  "cells": [
    {
      "cell_type": "markdown",
      "metadata": {
        "id": "view-in-github",
        "colab_type": "text"
      },
      "source": [
        "<a href=\"https://colab.research.google.com/github/alu231266-sr/repaso-De-Python/blob/main/ValentinaAV.ipynb\" target=\"_parent\"><img src=\"https://colab.research.google.com/assets/colab-badge.svg\" alt=\"Open In Colab\"/></a>"
      ]
    },
    {
      "cell_type": "code",
      "execution_count": null,
      "metadata": {
        "id": "mqVOWfGs-5x0"
      },
      "outputs": [],
      "source": []
    },
    {
      "cell_type": "markdown",
      "source": [
        "ealizar un programa que permita capturar tu nombre y lo imprima seguido de una bienvenida"
      ],
      "metadata": {
        "id": "H28TIHtF_OhH"
      }
    },
    {
      "cell_type": "code",
      "source": [
        "nombre = input(\"ingresa tu nombre:\")\n",
        "print(nombre, \"Bienvenida al programa\")\n",
        "\n"
      ],
      "metadata": {
        "id": "yFbfKA3I_diS",
        "colab": {
          "base_uri": "https://localhost:8080/"
        },
        "outputId": "71783a5f-e441-4d00-996a-d9ca4ef55284"
      },
      "execution_count": 7,
      "outputs": [
        {
          "output_type": "stream",
          "name": "stdout",
          "text": [
            "ingresa tu nombre:valentina\n",
            "valentina Bienvenida al programa\n"
          ]
        }
      ]
    },
    {
      "cell_type": "markdown",
      "source": [
        "realiza un programa que permita capturar 2 numeros enteros e imprima la suma, la resta, multiplicacion y la division entre ellos."
      ],
      "metadata": {
        "id": "1KZdHrTFCq7V"
      }
    },
    {
      "cell_type": "code",
      "source": [
        "num1=int(input(\"captura un numero\"))\n",
        "num2=int(input(\"captura un segundo numero\"))\n",
        "s=num1+num2\n",
        "print(\"la suma es:\",s)\n",
        "r=num1-num2\n",
        "print(\"la resta es:\",r)\n",
        "v=num1*num2\n",
        "print(\"la multiplicacion es:\",v)\n",
        "n=num1/num2\n",
        "print(\"la division es:\",n)"
      ],
      "metadata": {
        "id": "8DAxcSJXC6ru",
        "colab": {
          "base_uri": "https://localhost:8080/"
        },
        "outputId": "cfdf0d88-b3c7-4a48-f0b1-cae53e55c44a"
      },
      "execution_count": 8,
      "outputs": [
        {
          "output_type": "stream",
          "name": "stdout",
          "text": [
            "captura un numero15\n",
            "captura un segundo numero20\n",
            "la suma es: 35\n",
            "la resta es: -5\n",
            "la multiplicacion es: 300\n",
            "la division es: 0.75\n"
          ]
        }
      ]
    }
  ]
}